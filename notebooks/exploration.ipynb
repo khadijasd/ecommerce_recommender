{
 "cells": [
  {
   "cell_type": "code",
   "execution_count": null,
   "id": "d7ea32bb",
   "metadata": {},
   "outputs": [
    {
     "ename": "ModuleNotFoundError",
     "evalue": "No module named 'ecommerce_recommender'",
     "output_type": "error",
     "traceback": [
      "\u001b[31m---------------------------------------------------------------------------\u001b[39m",
      "\u001b[31mModuleNotFoundError\u001b[39m                       Traceback (most recent call last)",
      "\u001b[36mCell\u001b[39m\u001b[36m \u001b[39m\u001b[32mIn[1]\u001b[39m\u001b[32m, line 1\u001b[39m\n\u001b[32m----> \u001b[39m\u001b[32m1\u001b[39m \u001b[38;5;28;01mfrom\u001b[39;00m\u001b[38;5;250m \u001b[39m\u001b[34;01mecommerce_recommender\u001b[39;00m\u001b[34;01m.\u001b[39;00m\u001b[34;01mrecommender\u001b[39;00m\u001b[38;5;250m \u001b[39m\u001b[38;5;28;01mimport\u001b[39;00m ContentBasedRecommender\n\u001b[32m      2\u001b[39m \u001b[38;5;28;01mfrom\u001b[39;00m\u001b[38;5;250m \u001b[39m\u001b[34;01mecommerce_recommender\u001b[39;00m\u001b[34;01m.\u001b[39;00m\u001b[34;01mutils\u001b[39;00m\u001b[38;5;250m \u001b[39m\u001b[38;5;28;01mimport\u001b[39;00m display_recommendations\n\u001b[32m      4\u001b[39m recommender = ContentBasedRecommender(\u001b[33m\"\u001b[39m\u001b[33mC:/Users/PC/Desktop/ecommerce_recommender/data/products.csv\u001b[39m\u001b[33m\"\u001b[39m)\n",
      "\u001b[31mModuleNotFoundError\u001b[39m: No module named 'ecommerce_recommender'"
     ]
    }
   ],
   "source": [
    "from ecommerce_recommender.recommender import ContentBasedRecommender\n",
    "from ecommerce_recommender.utils import display_recommendations\n",
    "\n",
    "recommender = ContentBasedRecommender(\"C:/Users/PC/Desktop/ecommerce_recommender/data/products.csv\")\n",
    "recommender.preprocess()\n",
    "\n",
    "product_id = 1  # Sneakers\n",
    "recommended = recommender.get_recommendations(product_id)\n",
    "\n",
    "print(\"Recommended products:\")\n",
    "display_recommendations(recommended)\n"
   ]
  }
 ],
 "metadata": {
  "kernelspec": {
   "display_name": "Python 3",
   "language": "python",
   "name": "python3"
  },
  "language_info": {
   "codemirror_mode": {
    "name": "ipython",
    "version": 3
   },
   "file_extension": ".py",
   "mimetype": "text/x-python",
   "name": "python",
   "nbconvert_exporter": "python",
   "pygments_lexer": "ipython3",
   "version": "3.11.6"
  }
 },
 "nbformat": 4,
 "nbformat_minor": 5
}
